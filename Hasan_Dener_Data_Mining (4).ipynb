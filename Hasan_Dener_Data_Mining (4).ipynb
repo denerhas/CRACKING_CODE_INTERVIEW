{
  "nbformat": 4,
  "nbformat_minor": 0,
  "metadata": {
    "colab": {
      "name": "Hasan_Dener_Data_Mining.ipynb",
      "version": "0.3.2",
      "provenance": [],
      "collapsed_sections": []
    },
    "kernelspec": {
      "name": "python3",
      "display_name": "Python 3"
    }
  },
  "cells": [
    {
      "cell_type": "markdown",
      "metadata": {
        "id": "1xuT8l5tJ9oI",
        "colab_type": "text"
      },
      "source": [
        "**IMPORT LIBRARIES**"
      ]
    },
    {
      "cell_type": "code",
      "metadata": {
        "id": "OMEEhDgiKJnE",
        "colab_type": "code",
        "colab": {}
      },
      "source": [
        "import pandas as pd \n",
        "import numpy as np\n",
        "import matplotlib.pyplot as plt\n",
        "import seaborn as sns\n",
        "import matplotlib.ticker as ticker\n",
        "import numpy as np \n",
        "import pylab \n",
        "import scipy.stats as stats\n",
        "from scipy.sparse import csr_matrix\n",
        "from sklearn.neighbors import NearestNeighbors\n",
        "from sklearn.feature_extraction.text import TfidfVectorizer, CountVectorizer\n",
        "from sklearn.decomposition import NMF, LatentDirichletAllocation, TruncatedSVD\n",
        "from wordcloud import WordCloud, ImageColorGenerator, STOPWORDS\n",
        "from sklearn.cluster import KMeans\n",
        "from sklearn.metrics import silhouette_score\n",
        "from sklearn.manifold import TSNE"
      ],
      "execution_count": 0,
      "outputs": []
    },
    {
      "cell_type": "markdown",
      "metadata": {
        "id": "9If_f424Ka3l",
        "colab_type": "text"
      },
      "source": [
        "**DATA PROCESSING**"
      ]
    },
    {
      "cell_type": "code",
      "metadata": {
        "id": "_jHmODUNLv7D",
        "colab_type": "code",
        "outputId": "c8023642-974c-48df-c127-0982da3c62bb",
        "colab": {
          "base_uri": "https://localhost:8080/",
          "height": 122
        }
      },
      "source": [
        "from google.colab import drive\n",
        "drive.mount('/gdrive')"
      ],
      "execution_count": 2,
      "outputs": [
        {
          "output_type": "stream",
          "text": [
            "Go to this URL in a browser: https://accounts.google.com/o/oauth2/auth?client_id=947318989803-6bn6qk8qdgf4n4g3pfee6491hc0brc4i.apps.googleusercontent.com&redirect_uri=urn%3Aietf%3Awg%3Aoauth%3A2.0%3Aoob&scope=email%20https%3A%2F%2Fwww.googleapis.com%2Fauth%2Fdocs.test%20https%3A%2F%2Fwww.googleapis.com%2Fauth%2Fdrive%20https%3A%2F%2Fwww.googleapis.com%2Fauth%2Fdrive.photos.readonly%20https%3A%2F%2Fwww.googleapis.com%2Fauth%2Fpeopleapi.readonly&response_type=code\n",
            "\n",
            "Enter your authorization code:\n",
            "··········\n",
            "Mounted at /gdrive\n"
          ],
          "name": "stdout"
        }
      ]
    },
    {
      "cell_type": "code",
      "metadata": {
        "id": "qhLtcWxxKeBw",
        "colab_type": "code",
        "colab": {}
      },
      "source": [
        "plays   = pd.read_csv('/gdrive/My Drive/user_artists.dat',sep='\\t')\n",
        "artists = pd.read_csv('/gdrive/My Drive/artists.dat',sep='\\t',usecols=['id','name'])\n",
        "tags    = pd.read_csv('/gdrive/My Drive/tags.dat', sep='\\t',encoding='latin-1')\n",
        "uta     = pd.read_csv('/gdrive/My Drive/user_taggedartists.dat', sep='\\t')\n",
        "utat    = pd.read_csv('/gdrive/My Drive/user_taggedartists-timestamps.dat', sep=\"\\t\")\n",
        "friends = pd.read_csv('/gdrive/My Drive/user_friends.dat', sep='\\t')"
      ],
      "execution_count": 0,
      "outputs": []
    },
    {
      "cell_type": "code",
      "metadata": {
        "id": "336bDHWxLRtR",
        "colab_type": "code",
        "outputId": "89d9fe8c-3424-44a8-96c0-439704835747",
        "colab": {
          "base_uri": "https://localhost:8080/",
          "height": 204
        }
      },
      "source": [
        "#Merge user and artis data\n",
        "user_artist_data = pd.merge(artists, plays, how='inner', left_on='id', right_on='artistID')\n",
        "user_artist_data = user_artist_data.rename(columns={\"weight\":\"userArtistPlays\"})\n",
        "\n",
        "user_artist_data.head()"
      ],
      "execution_count": 4,
      "outputs": [
        {
          "output_type": "execute_result",
          "data": {
            "text/html": [
              "<div>\n",
              "<style scoped>\n",
              "    .dataframe tbody tr th:only-of-type {\n",
              "        vertical-align: middle;\n",
              "    }\n",
              "\n",
              "    .dataframe tbody tr th {\n",
              "        vertical-align: top;\n",
              "    }\n",
              "\n",
              "    .dataframe thead th {\n",
              "        text-align: right;\n",
              "    }\n",
              "</style>\n",
              "<table border=\"1\" class=\"dataframe\">\n",
              "  <thead>\n",
              "    <tr style=\"text-align: right;\">\n",
              "      <th></th>\n",
              "      <th>id</th>\n",
              "      <th>name</th>\n",
              "      <th>userID</th>\n",
              "      <th>artistID</th>\n",
              "      <th>userArtistPlays</th>\n",
              "    </tr>\n",
              "  </thead>\n",
              "  <tbody>\n",
              "    <tr>\n",
              "      <th>0</th>\n",
              "      <td>1</td>\n",
              "      <td>MALICE MIZER</td>\n",
              "      <td>34</td>\n",
              "      <td>1</td>\n",
              "      <td>212</td>\n",
              "    </tr>\n",
              "    <tr>\n",
              "      <th>1</th>\n",
              "      <td>1</td>\n",
              "      <td>MALICE MIZER</td>\n",
              "      <td>274</td>\n",
              "      <td>1</td>\n",
              "      <td>483</td>\n",
              "    </tr>\n",
              "    <tr>\n",
              "      <th>2</th>\n",
              "      <td>1</td>\n",
              "      <td>MALICE MIZER</td>\n",
              "      <td>785</td>\n",
              "      <td>1</td>\n",
              "      <td>76</td>\n",
              "    </tr>\n",
              "    <tr>\n",
              "      <th>3</th>\n",
              "      <td>2</td>\n",
              "      <td>Diary of Dreams</td>\n",
              "      <td>135</td>\n",
              "      <td>2</td>\n",
              "      <td>1021</td>\n",
              "    </tr>\n",
              "    <tr>\n",
              "      <th>4</th>\n",
              "      <td>2</td>\n",
              "      <td>Diary of Dreams</td>\n",
              "      <td>257</td>\n",
              "      <td>2</td>\n",
              "      <td>152</td>\n",
              "    </tr>\n",
              "  </tbody>\n",
              "</table>\n",
              "</div>"
            ],
            "text/plain": [
              "   id             name  userID  artistID  userArtistPlays\n",
              "0   1     MALICE MIZER      34         1              212\n",
              "1   1     MALICE MIZER     274         1              483\n",
              "2   1     MALICE MIZER     785         1               76\n",
              "3   2  Diary of Dreams     135         2             1021\n",
              "4   2  Diary of Dreams     257         2              152"
            ]
          },
          "metadata": {
            "tags": []
          },
          "execution_count": 4
        }
      ]
    },
    {
      "cell_type": "code",
      "metadata": {
        "id": "CE1IZztiN_T-",
        "colab_type": "code",
        "outputId": "1723b3d0-3deb-4844-b54d-96aefbc99276",
        "colab": {
          "base_uri": "https://localhost:8080/",
          "height": 204
        }
      },
      "source": [
        "#Remove rows which doesn't have artist name\n",
        "if user_artist_data['name'].isnull().sum() > 0:\n",
        "    user_artist_data = user_artist_data.dropna(axis = 0, subset = ['name'])\n",
        "    \n",
        "#Calculate total artist play count\n",
        "artist_plays = (user_artist_data.groupby(by = ['name'])['userArtistPlays'].sum().reset_index().rename(columns = {'userArtistPlays': 'totalArtistPlays'})[['name', 'totalArtistPlays']])\n",
        "artist_plays.head()"
      ],
      "execution_count": 5,
      "outputs": [
        {
          "output_type": "execute_result",
          "data": {
            "text/html": [
              "<div>\n",
              "<style scoped>\n",
              "    .dataframe tbody tr th:only-of-type {\n",
              "        vertical-align: middle;\n",
              "    }\n",
              "\n",
              "    .dataframe tbody tr th {\n",
              "        vertical-align: top;\n",
              "    }\n",
              "\n",
              "    .dataframe thead th {\n",
              "        text-align: right;\n",
              "    }\n",
              "</style>\n",
              "<table border=\"1\" class=\"dataframe\">\n",
              "  <thead>\n",
              "    <tr style=\"text-align: right;\">\n",
              "      <th></th>\n",
              "      <th>name</th>\n",
              "      <th>totalArtistPlays</th>\n",
              "    </tr>\n",
              "  </thead>\n",
              "  <tbody>\n",
              "    <tr>\n",
              "      <th>0</th>\n",
              "      <td>!!!</td>\n",
              "      <td>2826</td>\n",
              "    </tr>\n",
              "    <tr>\n",
              "      <th>1</th>\n",
              "      <td>!DISTAIN</td>\n",
              "      <td>1257</td>\n",
              "    </tr>\n",
              "    <tr>\n",
              "      <th>2</th>\n",
              "      <td>!deladap</td>\n",
              "      <td>65</td>\n",
              "    </tr>\n",
              "    <tr>\n",
              "      <th>3</th>\n",
              "      <td>#####</td>\n",
              "      <td>3707</td>\n",
              "    </tr>\n",
              "    <tr>\n",
              "      <th>4</th>\n",
              "      <td>#2 Orchestra</td>\n",
              "      <td>144</td>\n",
              "    </tr>\n",
              "  </tbody>\n",
              "</table>\n",
              "</div>"
            ],
            "text/plain": [
              "           name  totalArtistPlays\n",
              "0           !!!              2826\n",
              "1      !DISTAIN              1257\n",
              "2      !deladap                65\n",
              "3         #####              3707\n",
              "4  #2 Orchestra               144"
            ]
          },
          "metadata": {
            "tags": []
          },
          "execution_count": 5
        }
      ]
    },
    {
      "cell_type": "code",
      "metadata": {
        "id": "JSfVlqp4jUjW",
        "colab_type": "code",
        "outputId": "cde105d5-4b9d-4b3f-eb3b-0fd83bf7dbff",
        "colab": {
          "base_uri": "https://localhost:8080/",
          "height": 204
        }
      },
      "source": [
        "#Merge the total play count into the user activity data\n",
        "user_data_with_artist_plays = user_artist_data.merge(artist_plays, left_on = 'name', right_on = 'name', how = 'left')\n",
        "user_data_with_artist_plays.head()"
      ],
      "execution_count": 6,
      "outputs": [
        {
          "output_type": "execute_result",
          "data": {
            "text/html": [
              "<div>\n",
              "<style scoped>\n",
              "    .dataframe tbody tr th:only-of-type {\n",
              "        vertical-align: middle;\n",
              "    }\n",
              "\n",
              "    .dataframe tbody tr th {\n",
              "        vertical-align: top;\n",
              "    }\n",
              "\n",
              "    .dataframe thead th {\n",
              "        text-align: right;\n",
              "    }\n",
              "</style>\n",
              "<table border=\"1\" class=\"dataframe\">\n",
              "  <thead>\n",
              "    <tr style=\"text-align: right;\">\n",
              "      <th></th>\n",
              "      <th>id</th>\n",
              "      <th>name</th>\n",
              "      <th>userID</th>\n",
              "      <th>artistID</th>\n",
              "      <th>userArtistPlays</th>\n",
              "      <th>totalArtistPlays</th>\n",
              "    </tr>\n",
              "  </thead>\n",
              "  <tbody>\n",
              "    <tr>\n",
              "      <th>0</th>\n",
              "      <td>1</td>\n",
              "      <td>MALICE MIZER</td>\n",
              "      <td>34</td>\n",
              "      <td>1</td>\n",
              "      <td>212</td>\n",
              "      <td>771</td>\n",
              "    </tr>\n",
              "    <tr>\n",
              "      <th>1</th>\n",
              "      <td>1</td>\n",
              "      <td>MALICE MIZER</td>\n",
              "      <td>274</td>\n",
              "      <td>1</td>\n",
              "      <td>483</td>\n",
              "      <td>771</td>\n",
              "    </tr>\n",
              "    <tr>\n",
              "      <th>2</th>\n",
              "      <td>1</td>\n",
              "      <td>MALICE MIZER</td>\n",
              "      <td>785</td>\n",
              "      <td>1</td>\n",
              "      <td>76</td>\n",
              "      <td>771</td>\n",
              "    </tr>\n",
              "    <tr>\n",
              "      <th>3</th>\n",
              "      <td>2</td>\n",
              "      <td>Diary of Dreams</td>\n",
              "      <td>135</td>\n",
              "      <td>2</td>\n",
              "      <td>1021</td>\n",
              "      <td>8012</td>\n",
              "    </tr>\n",
              "    <tr>\n",
              "      <th>4</th>\n",
              "      <td>2</td>\n",
              "      <td>Diary of Dreams</td>\n",
              "      <td>257</td>\n",
              "      <td>2</td>\n",
              "      <td>152</td>\n",
              "      <td>8012</td>\n",
              "    </tr>\n",
              "  </tbody>\n",
              "</table>\n",
              "</div>"
            ],
            "text/plain": [
              "   id             name  userID  artistID  userArtistPlays  totalArtistPlays\n",
              "0   1     MALICE MIZER      34         1              212               771\n",
              "1   1     MALICE MIZER     274         1              483               771\n",
              "2   1     MALICE MIZER     785         1               76               771\n",
              "3   2  Diary of Dreams     135         2             1021              8012\n",
              "4   2  Diary of Dreams     257         2              152              8012"
            ]
          },
          "metadata": {
            "tags": []
          },
          "execution_count": 6
        }
      ]
    },
    {
      "cell_type": "code",
      "metadata": {
        "id": "vjDCiNJ4j7Rh",
        "colab_type": "code",
        "outputId": "bbbf5ae0-c0d8-4db5-ed8f-9f1560ca7c28",
        "colab": {
          "base_uri": "https://localhost:8080/",
          "height": 170
        }
      },
      "source": [
        "#Look at the descriptive analysis\n",
        "pd.set_option('display.float_format', lambda x: '%.3f' % x)\n",
        "artist_plays['totalArtistPlays'].describe()"
      ],
      "execution_count": 7,
      "outputs": [
        {
          "output_type": "execute_result",
          "data": {
            "text/plain": [
              "count     17632.000\n",
              "mean       3923.774\n",
              "std       34099.342\n",
              "min           1.000\n",
              "25%         113.000\n",
              "50%         350.000\n",
              "75%        1234.250\n",
              "max     2393140.000\n",
              "Name: totalArtistPlays, dtype: float64"
            ]
          },
          "metadata": {
            "tags": []
          },
          "execution_count": 7
        }
      ]
    },
    {
      "cell_type": "code",
      "metadata": {
        "id": "NU-b6lvMlQuN",
        "colab_type": "code",
        "outputId": "8bd17132-0a08-4a8b-e447-dce87e49cddd",
        "colab": {
          "base_uri": "https://localhost:8080/",
          "height": 204
        }
      },
      "source": [
        "artist_plays['totalArtistPlays'].quantile(np.arange(.9, 1, .01)), "
      ],
      "execution_count": 8,
      "outputs": [
        {
          "output_type": "execute_result",
          "data": {
            "text/plain": [
              "(0.900    4645.400\n",
              " 0.910    5350.680\n",
              " 0.920    6193.000\n",
              " 0.930    7320.640\n",
              " 0.940    8685.280\n",
              " 0.950   10693.400\n",
              " 0.960   14257.800\n",
              " 0.970   18969.740\n",
              " 0.980   30137.940\n",
              " 0.990   60096.010\n",
              " Name: totalArtistPlays, dtype: float64,)"
            ]
          },
          "metadata": {
            "tags": []
          },
          "execution_count": 8
        }
      ]
    },
    {
      "cell_type": "code",
      "metadata": {
        "id": "doQ1m5TmoTVs",
        "colab_type": "code",
        "outputId": "483da292-ab59-45dc-9790-52a3fc3fdfbb",
        "colab": {
          "base_uri": "https://localhost:8080/",
          "height": 1969
        }
      },
      "source": [
        "artist_plays.sort_values(['totalArtistPlays'],ascending=False)"
      ],
      "execution_count": 9,
      "outputs": [
        {
          "output_type": "execute_result",
          "data": {
            "text/html": [
              "<div>\n",
              "<style scoped>\n",
              "    .dataframe tbody tr th:only-of-type {\n",
              "        vertical-align: middle;\n",
              "    }\n",
              "\n",
              "    .dataframe tbody tr th {\n",
              "        vertical-align: top;\n",
              "    }\n",
              "\n",
              "    .dataframe thead th {\n",
              "        text-align: right;\n",
              "    }\n",
              "</style>\n",
              "<table border=\"1\" class=\"dataframe\">\n",
              "  <thead>\n",
              "    <tr style=\"text-align: right;\">\n",
              "      <th></th>\n",
              "      <th>name</th>\n",
              "      <th>totalArtistPlays</th>\n",
              "    </tr>\n",
              "  </thead>\n",
              "  <tbody>\n",
              "    <tr>\n",
              "      <th>2336</th>\n",
              "      <td>Britney Spears</td>\n",
              "      <td>2393140</td>\n",
              "    </tr>\n",
              "    <tr>\n",
              "      <th>3998</th>\n",
              "      <td>Depeche Mode</td>\n",
              "      <td>1301308</td>\n",
              "    </tr>\n",
              "    <tr>\n",
              "      <th>8352</th>\n",
              "      <td>Lady Gaga</td>\n",
              "      <td>1291387</td>\n",
              "    </tr>\n",
              "    <tr>\n",
              "      <th>3023</th>\n",
              "      <td>Christina Aguilera</td>\n",
              "      <td>1058405</td>\n",
              "    </tr>\n",
              "    <tr>\n",
              "      <th>11069</th>\n",
              "      <td>Paramore</td>\n",
              "      <td>963449</td>\n",
              "    </tr>\n",
              "    <tr>\n",
              "      <th>9130</th>\n",
              "      <td>Madonna</td>\n",
              "      <td>921198</td>\n",
              "    </tr>\n",
              "    <tr>\n",
              "      <th>12072</th>\n",
              "      <td>Rihanna</td>\n",
              "      <td>905423</td>\n",
              "    </tr>\n",
              "    <tr>\n",
              "      <th>12818</th>\n",
              "      <td>Shakira</td>\n",
              "      <td>688529</td>\n",
              "    </tr>\n",
              "    <tr>\n",
              "      <th>14109</th>\n",
              "      <td>The Beatles</td>\n",
              "      <td>662116</td>\n",
              "    </tr>\n",
              "    <tr>\n",
              "      <th>7913</th>\n",
              "      <td>Katy Perry</td>\n",
              "      <td>532545</td>\n",
              "    </tr>\n",
              "    <tr>\n",
              "      <th>1411</th>\n",
              "      <td>Avril Lavigne</td>\n",
              "      <td>525844</td>\n",
              "    </tr>\n",
              "    <tr>\n",
              "      <th>13894</th>\n",
              "      <td>Taylor Swift</td>\n",
              "      <td>525292</td>\n",
              "    </tr>\n",
              "    <tr>\n",
              "      <th>5011</th>\n",
              "      <td>Evanescence</td>\n",
              "      <td>513476</td>\n",
              "    </tr>\n",
              "    <tr>\n",
              "      <th>5879</th>\n",
              "      <td>Glee Cast</td>\n",
              "      <td>506453</td>\n",
              "    </tr>\n",
              "    <tr>\n",
              "      <th>1797</th>\n",
              "      <td>Beyoncé</td>\n",
              "      <td>499318</td>\n",
              "    </tr>\n",
              "    <tr>\n",
              "      <th>15654</th>\n",
              "      <td>U2</td>\n",
              "      <td>493024</td>\n",
              "    </tr>\n",
              "    <tr>\n",
              "      <th>9813</th>\n",
              "      <td>Miley Cyrus</td>\n",
              "      <td>489065</td>\n",
              "    </tr>\n",
              "    <tr>\n",
              "      <th>93</th>\n",
              "      <td>30 Seconds to Mars</td>\n",
              "      <td>485532</td>\n",
              "    </tr>\n",
              "    <tr>\n",
              "      <th>10158</th>\n",
              "      <td>Muse</td>\n",
              "      <td>485076</td>\n",
              "    </tr>\n",
              "    <tr>\n",
              "      <th>11377</th>\n",
              "      <td>Pink Floyd</td>\n",
              "      <td>466104</td>\n",
              "    </tr>\n",
              "    <tr>\n",
              "      <th>8270</th>\n",
              "      <td>Kylie Minogue</td>\n",
              "      <td>449292</td>\n",
              "    </tr>\n",
              "    <tr>\n",
              "      <th>11762</th>\n",
              "      <td>Radiohead</td>\n",
              "      <td>385306</td>\n",
              "    </tr>\n",
              "    <tr>\n",
              "      <th>7938</th>\n",
              "      <td>Ke$ha</td>\n",
              "      <td>384405</td>\n",
              "    </tr>\n",
              "    <tr>\n",
              "      <th>9346</th>\n",
              "      <td>Mariah Carey</td>\n",
              "      <td>384307</td>\n",
              "    </tr>\n",
              "    <tr>\n",
              "      <th>9686</th>\n",
              "      <td>Metallica</td>\n",
              "      <td>371916</td>\n",
              "    </tr>\n",
              "    <tr>\n",
              "      <th>6953</th>\n",
              "      <td>Iron Maiden</td>\n",
              "      <td>368710</td>\n",
              "    </tr>\n",
              "    <tr>\n",
              "      <th>14012</th>\n",
              "      <td>Thalía</td>\n",
              "      <td>350035</td>\n",
              "    </tr>\n",
              "    <tr>\n",
              "      <th>4493</th>\n",
              "      <td>Duran Duran</td>\n",
              "      <td>348919</td>\n",
              "    </tr>\n",
              "    <tr>\n",
              "      <th>3220</th>\n",
              "      <td>Coldplay</td>\n",
              "      <td>330757</td>\n",
              "    </tr>\n",
              "    <tr>\n",
              "      <th>4823</th>\n",
              "      <td>Eminem</td>\n",
              "      <td>321011</td>\n",
              "    </tr>\n",
              "    <tr>\n",
              "      <th>...</th>\n",
              "      <td>...</td>\n",
              "      <td>...</td>\n",
              "    </tr>\n",
              "    <tr>\n",
              "      <th>7309</th>\n",
              "      <td>Jessy</td>\n",
              "      <td>1</td>\n",
              "    </tr>\n",
              "    <tr>\n",
              "      <th>7808</th>\n",
              "      <td>Kalson</td>\n",
              "      <td>1</td>\n",
              "    </tr>\n",
              "    <tr>\n",
              "      <th>7537</th>\n",
              "      <td>Jon Schmidt</td>\n",
              "      <td>1</td>\n",
              "    </tr>\n",
              "    <tr>\n",
              "      <th>9515</th>\n",
              "      <td>Matt Lewis Band</td>\n",
              "      <td>1</td>\n",
              "    </tr>\n",
              "    <tr>\n",
              "      <th>10862</th>\n",
              "      <td>Oppenheimer</td>\n",
              "      <td>1</td>\n",
              "    </tr>\n",
              "    <tr>\n",
              "      <th>15889</th>\n",
              "      <td>VeritaSaga</td>\n",
              "      <td>1</td>\n",
              "    </tr>\n",
              "    <tr>\n",
              "      <th>4069</th>\n",
              "      <td>Devils Brigade</td>\n",
              "      <td>1</td>\n",
              "    </tr>\n",
              "    <tr>\n",
              "      <th>14907</th>\n",
              "      <td>The Search</td>\n",
              "      <td>1</td>\n",
              "    </tr>\n",
              "    <tr>\n",
              "      <th>2674</th>\n",
              "      <td>Caroline</td>\n",
              "      <td>1</td>\n",
              "    </tr>\n",
              "    <tr>\n",
              "      <th>15804</th>\n",
              "      <td>Val. P</td>\n",
              "      <td>1</td>\n",
              "    </tr>\n",
              "    <tr>\n",
              "      <th>12977</th>\n",
              "      <td>Simon LeBon</td>\n",
              "      <td>1</td>\n",
              "    </tr>\n",
              "    <tr>\n",
              "      <th>15285</th>\n",
              "      <td>Timpuri noi</td>\n",
              "      <td>1</td>\n",
              "    </tr>\n",
              "    <tr>\n",
              "      <th>2707</th>\n",
              "      <td>Cass McCombs</td>\n",
              "      <td>1</td>\n",
              "    </tr>\n",
              "    <tr>\n",
              "      <th>17450</th>\n",
              "      <td>姫神</td>\n",
              "      <td>1</td>\n",
              "    </tr>\n",
              "    <tr>\n",
              "      <th>1459</th>\n",
              "      <td>B.o.B feat. Eminem &amp; Hayley Williams</td>\n",
              "      <td>1</td>\n",
              "    </tr>\n",
              "    <tr>\n",
              "      <th>1461</th>\n",
              "      <td>B2K</td>\n",
              "      <td>1</td>\n",
              "    </tr>\n",
              "    <tr>\n",
              "      <th>11707</th>\n",
              "      <td>Quidam</td>\n",
              "      <td>1</td>\n",
              "    </tr>\n",
              "    <tr>\n",
              "      <th>9834</th>\n",
              "      <td>Mina/심지환/최지호</td>\n",
              "      <td>1</td>\n",
              "    </tr>\n",
              "    <tr>\n",
              "      <th>3898</th>\n",
              "      <td>Deborah Harry</td>\n",
              "      <td>1</td>\n",
              "    </tr>\n",
              "    <tr>\n",
              "      <th>2249</th>\n",
              "      <td>Bracket</td>\n",
              "      <td>1</td>\n",
              "    </tr>\n",
              "    <tr>\n",
              "      <th>11062</th>\n",
              "      <td>Paquita La Del Barrio</td>\n",
              "      <td>1</td>\n",
              "    </tr>\n",
              "    <tr>\n",
              "      <th>11713</th>\n",
              "      <td>Qwel</td>\n",
              "      <td>1</td>\n",
              "    </tr>\n",
              "    <tr>\n",
              "      <th>1395</th>\n",
              "      <td>Avail</td>\n",
              "      <td>1</td>\n",
              "    </tr>\n",
              "    <tr>\n",
              "      <th>14854</th>\n",
              "      <td>The Reduction Agents</td>\n",
              "      <td>1</td>\n",
              "    </tr>\n",
              "    <tr>\n",
              "      <th>14591</th>\n",
              "      <td>The Knack</td>\n",
              "      <td>1</td>\n",
              "    </tr>\n",
              "    <tr>\n",
              "      <th>10040</th>\n",
              "      <td>Morris</td>\n",
              "      <td>1</td>\n",
              "    </tr>\n",
              "    <tr>\n",
              "      <th>4598</th>\n",
              "      <td>Eddie Kendricks</td>\n",
              "      <td>1</td>\n",
              "    </tr>\n",
              "    <tr>\n",
              "      <th>5054</th>\n",
              "      <td>Excess Pressure</td>\n",
              "      <td>1</td>\n",
              "    </tr>\n",
              "    <tr>\n",
              "      <th>10195</th>\n",
              "      <td>My Mine</td>\n",
              "      <td>1</td>\n",
              "    </tr>\n",
              "    <tr>\n",
              "      <th>222</th>\n",
              "      <td>A.M. Architect</td>\n",
              "      <td>1</td>\n",
              "    </tr>\n",
              "  </tbody>\n",
              "</table>\n",
              "<p>17632 rows × 2 columns</p>\n",
              "</div>"
            ],
            "text/plain": [
              "                                       name  totalArtistPlays\n",
              "2336                         Britney Spears           2393140\n",
              "3998                           Depeche Mode           1301308\n",
              "8352                              Lady Gaga           1291387\n",
              "3023                     Christina Aguilera           1058405\n",
              "11069                              Paramore            963449\n",
              "9130                                Madonna            921198\n",
              "12072                               Rihanna            905423\n",
              "12818                               Shakira            688529\n",
              "14109                           The Beatles            662116\n",
              "7913                             Katy Perry            532545\n",
              "1411                          Avril Lavigne            525844\n",
              "13894                          Taylor Swift            525292\n",
              "5011                            Evanescence            513476\n",
              "5879                              Glee Cast            506453\n",
              "1797                                Beyoncé            499318\n",
              "15654                                    U2            493024\n",
              "9813                            Miley Cyrus            489065\n",
              "93                       30 Seconds to Mars            485532\n",
              "10158                                  Muse            485076\n",
              "11377                            Pink Floyd            466104\n",
              "8270                          Kylie Minogue            449292\n",
              "11762                             Radiohead            385306\n",
              "7938                                  Ke$ha            384405\n",
              "9346                           Mariah Carey            384307\n",
              "9686                              Metallica            371916\n",
              "6953                            Iron Maiden            368710\n",
              "14012                                Thalía            350035\n",
              "4493                            Duran Duran            348919\n",
              "3220                               Coldplay            330757\n",
              "4823                                 Eminem            321011\n",
              "...                                     ...               ...\n",
              "7309                                  Jessy                 1\n",
              "7808                                 Kalson                 1\n",
              "7537                            Jon Schmidt                 1\n",
              "9515                        Matt Lewis Band                 1\n",
              "10862                           Oppenheimer                 1\n",
              "15889                            VeritaSaga                 1\n",
              "4069                         Devils Brigade                 1\n",
              "14907                            The Search                 1\n",
              "2674                               Caroline                 1\n",
              "15804                                Val. P                 1\n",
              "12977                           Simon LeBon                 1\n",
              "15285                           Timpuri noi                 1\n",
              "2707                           Cass McCombs                 1\n",
              "17450                                    姫神                 1\n",
              "1459   B.o.B feat. Eminem & Hayley Williams                 1\n",
              "1461                                    B2K                 1\n",
              "11707                                Quidam                 1\n",
              "9834                           Mina/심지환/최지호                 1\n",
              "3898                          Deborah Harry                 1\n",
              "2249                                Bracket                 1\n",
              "11062                 Paquita La Del Barrio                 1\n",
              "11713                                  Qwel                 1\n",
              "1395                                  Avail                 1\n",
              "14854                  The Reduction Agents                 1\n",
              "14591                             The Knack                 1\n",
              "10040                                Morris                 1\n",
              "4598                        Eddie Kendricks                 1\n",
              "5054                        Excess Pressure                 1\n",
              "10195                               My Mine                 1\n",
              "222                          A.M. Architect                 1\n",
              "\n",
              "[17632 rows x 2 columns]"
            ]
          },
          "metadata": {
            "tags": []
          },
          "execution_count": 9
        }
      ]
    },
    {
      "cell_type": "code",
      "metadata": {
        "id": "tM7KqrBSq4R0",
        "colab_type": "code",
        "outputId": "fa7f16ca-f734-4311-f06a-b65a806e9edb",
        "colab": {
          "base_uri": "https://localhost:8080/",
          "height": 235
        }
      },
      "source": [
        "#Calculate Artisit popularity\n",
        "x = artist_plays['totalArtistPlays'].max()\n",
        "\n",
        "artist_rank = (user_data_with_artist_plays.groupby(['name']).agg({'userID':'count','userArtistPlays':'sum'}).\n",
        "    rename(columns={\"userID\":'totalUniqueUsers',\"userArtistPlays\":\"totalArtistPlays\"}).\n",
        "              sort_values(['totalArtistPlays'],ascending=False))\n",
        "\n",
        "artist_rank['avgUserPlays'] = artist_rank['totalArtistPlays']/artist_rank['totalUniqueUsers']\n",
        "artist_rank.head()"
      ],
      "execution_count": 10,
      "outputs": [
        {
          "output_type": "execute_result",
          "data": {
            "text/html": [
              "<div>\n",
              "<style scoped>\n",
              "    .dataframe tbody tr th:only-of-type {\n",
              "        vertical-align: middle;\n",
              "    }\n",
              "\n",
              "    .dataframe tbody tr th {\n",
              "        vertical-align: top;\n",
              "    }\n",
              "\n",
              "    .dataframe thead th {\n",
              "        text-align: right;\n",
              "    }\n",
              "</style>\n",
              "<table border=\"1\" class=\"dataframe\">\n",
              "  <thead>\n",
              "    <tr style=\"text-align: right;\">\n",
              "      <th></th>\n",
              "      <th>totalUniqueUsers</th>\n",
              "      <th>totalArtistPlays</th>\n",
              "      <th>avgUserPlays</th>\n",
              "    </tr>\n",
              "    <tr>\n",
              "      <th>name</th>\n",
              "      <th></th>\n",
              "      <th></th>\n",
              "      <th></th>\n",
              "    </tr>\n",
              "  </thead>\n",
              "  <tbody>\n",
              "    <tr>\n",
              "      <th>Britney Spears</th>\n",
              "      <td>522</td>\n",
              "      <td>2393140</td>\n",
              "      <td>4584.559</td>\n",
              "    </tr>\n",
              "    <tr>\n",
              "      <th>Depeche Mode</th>\n",
              "      <td>282</td>\n",
              "      <td>1301308</td>\n",
              "      <td>4614.567</td>\n",
              "    </tr>\n",
              "    <tr>\n",
              "      <th>Lady Gaga</th>\n",
              "      <td>611</td>\n",
              "      <td>1291387</td>\n",
              "      <td>2113.563</td>\n",
              "    </tr>\n",
              "    <tr>\n",
              "      <th>Christina Aguilera</th>\n",
              "      <td>407</td>\n",
              "      <td>1058405</td>\n",
              "      <td>2600.504</td>\n",
              "    </tr>\n",
              "    <tr>\n",
              "      <th>Paramore</th>\n",
              "      <td>399</td>\n",
              "      <td>963449</td>\n",
              "      <td>2414.659</td>\n",
              "    </tr>\n",
              "  </tbody>\n",
              "</table>\n",
              "</div>"
            ],
            "text/plain": [
              "                    totalUniqueUsers  totalArtistPlays  avgUserPlays\n",
              "name                                                                \n",
              "Britney Spears                   522           2393140      4584.559\n",
              "Depeche Mode                     282           1301308      4614.567\n",
              "Lady Gaga                        611           1291387      2113.563\n",
              "Christina Aguilera               407           1058405      2600.504\n",
              "Paramore                         399            963449      2414.659"
            ]
          },
          "metadata": {
            "tags": []
          },
          "execution_count": 10
        }
      ]
    },
    {
      "cell_type": "code",
      "metadata": {
        "id": "4d5IMwG2vM5_",
        "colab_type": "code",
        "outputId": "02d297ff-b993-4538-993b-a5fbc42536e6",
        "colab": {
          "base_uri": "https://localhost:8080/",
          "height": 621
        }
      },
      "source": [
        "#Plot artist popularity to detect noise data\n",
        "top_artists = artist_rank.sort_values(['totalArtistPlays'],ascending=False).index[:12]\n",
        "\n",
        "x = artist_rank.totalUniqueUsers\n",
        "y = artist_rank.totalArtistPlays\n",
        "labels = artist_rank.index\n",
        "\n",
        "fig, ax = plt.subplots(figsize=(15,10))\n",
        "sns.regplot(x,y)\n",
        "ax.set_title('Artist Popularity: Play Count vs Unique Users',fontweight='bold')\n",
        "ax.yaxis.set_major_formatter(ticker.FuncFormatter(lambda y, _: '{:,.0f}'.format(y)))\n",
        "ax.set_xlabel('Total Unique Users',fontweight='bold')\n",
        "ax.set_ylabel('Total Artist Plays',fontweight='bold')\n",
        "\n",
        "for i, t in enumerate(labels):\n",
        "    if t in top_artists:\n",
        "        ax.annotate(t,(x[i],y[i]))"
      ],
      "execution_count": 11,
      "outputs": [
        {
          "output_type": "display_data",
          "data": {
            "image/png": "[encoded data removed]",
            "text/plain": [
              "<Figure size 1080x720 with 1 Axes>"
            ]
          },
          "metadata": {
            "tags": []
          }
        }
      ]
    },
    {
      "cell_type": "code",
      "metadata": {
        "id": "KurqkTKkzNu4",
        "colab_type": "code",
        "outputId": "23b7e87c-696e-43b0-eb66-a70019096359",
        "colab": {
          "base_uri": "https://localhost:8080/",
          "height": 34
        }
      },
      "source": [
        "#Remove data whose artist play count value is under the threshold\n",
        "popularity_threshold = 4000\n",
        "user_data_popular_artists = user_data_with_artist_plays.query('totalArtistPlays >= @popularity_threshold')\n",
        "user_data_popular_artists.head()\n",
        "\n",
        "user_data_popular_artists['artistID'].unique().size"
      ],
      "execution_count": 12,
      "outputs": [
        {
          "output_type": "execute_result",
          "data": {
            "text/plain": [
              "1979"
            ]
          },
          "metadata": {
            "tags": []
          },
          "execution_count": 12
        }
      ]
    },
    {
      "cell_type": "code",
      "metadata": {
        "id": "CiU93hIi3nl3",
        "colab_type": "code",
        "colab": {}
      },
      "source": [
        "#Remove dublicated data which has same userId and artistId\n",
        "\n",
        "if not user_data_popular_artists[user_data_popular_artists.duplicated(['userID', 'artistID'])].empty:\n",
        "    initial_rows = user_data_popular_artists.shape[0]\n",
        "\n",
        "    print('Initial dataframe shape {0}'.format(user_data_popular_artists.shape))\n",
        "    usa_data = user_data_popular_artists.drop_duplicates(['userID', 'artistID'])\n",
        "    current_rows = user_data_popular_artists.shape[0]\n",
        "    print('New dataframe shape {0}'.format(user_data_popular_artists.shape))\n",
        "    print('Removed {0} rows'.format(initial_rows - current_rows))"
      ],
      "execution_count": 0,
      "outputs": []
    },
    {
      "cell_type": "markdown",
      "metadata": {
        "id": "UMS9rz1G8UK4",
        "colab_type": "text"
      },
      "source": [
        "**COLLABORATIVE FILTERING**"
      ]
    },
    {
      "cell_type": "code",
      "metadata": {
        "id": "CC41q14s9BAC",
        "colab_type": "code",
        "outputId": "8ebef67f-2e35-42a5-d03e-ee7482df2532",
        "colab": {
          "base_uri": "https://localhost:8080/",
          "height": 204
        }
      },
      "source": [
        "user_data_popular_artists.head()"
      ],
      "execution_count": 14,
      "outputs": [
        {
          "output_type": "execute_result",
          "data": {
            "text/html": [
              "<div>\n",
              "<style scoped>\n",
              "    .dataframe tbody tr th:only-of-type {\n",
              "        vertical-align: middle;\n",
              "    }\n",
              "\n",
              "    .dataframe tbody tr th {\n",
              "        vertical-align: top;\n",
              "    }\n",
              "\n",
              "    .dataframe thead th {\n",
              "        text-align: right;\n",
              "    }\n",
              "</style>\n",
              "<table border=\"1\" class=\"dataframe\">\n",
              "  <thead>\n",
              "    <tr style=\"text-align: right;\">\n",
              "      <th></th>\n",
              "      <th>id</th>\n",
              "      <th>name</th>\n",
              "      <th>userID</th>\n",
              "      <th>artistID</th>\n",
              "      <th>userArtistPlays</th>\n",
              "      <th>totalArtistPlays</th>\n",
              "    </tr>\n",
              "  </thead>\n",
              "  <tbody>\n",
              "    <tr>\n",
              "      <th>3</th>\n",
              "      <td>2</td>\n",
              "      <td>Diary of Dreams</td>\n",
              "      <td>135</td>\n",
              "      <td>2</td>\n",
              "      <td>1021</td>\n",
              "      <td>8012</td>\n",
              "    </tr>\n",
              "    <tr>\n",
              "      <th>4</th>\n",
              "      <td>2</td>\n",
              "      <td>Diary of Dreams</td>\n",
              "      <td>257</td>\n",
              "      <td>2</td>\n",
              "      <td>152</td>\n",
              "      <td>8012</td>\n",
              "    </tr>\n",
              "    <tr>\n",
              "      <th>5</th>\n",
              "      <td>2</td>\n",
              "      <td>Diary of Dreams</td>\n",
              "      <td>325</td>\n",
              "      <td>2</td>\n",
              "      <td>3466</td>\n",
              "      <td>8012</td>\n",
              "    </tr>\n",
              "    <tr>\n",
              "      <th>6</th>\n",
              "      <td>2</td>\n",
              "      <td>Diary of Dreams</td>\n",
              "      <td>397</td>\n",
              "      <td>2</td>\n",
              "      <td>56</td>\n",
              "      <td>8012</td>\n",
              "    </tr>\n",
              "    <tr>\n",
              "      <th>7</th>\n",
              "      <td>2</td>\n",
              "      <td>Diary of Dreams</td>\n",
              "      <td>560</td>\n",
              "      <td>2</td>\n",
              "      <td>134</td>\n",
              "      <td>8012</td>\n",
              "    </tr>\n",
              "  </tbody>\n",
              "</table>\n",
              "</div>"
            ],
            "text/plain": [
              "   id             name  userID  artistID  userArtistPlays  totalArtistPlays\n",
              "3   2  Diary of Dreams     135         2             1021              8012\n",
              "4   2  Diary of Dreams     257         2              152              8012\n",
              "5   2  Diary of Dreams     325         2             3466              8012\n",
              "6   2  Diary of Dreams     397         2               56              8012\n",
              "7   2  Diary of Dreams     560         2              134              8012"
            ]
          },
          "metadata": {
            "tags": []
          },
          "execution_count": 14
        }
      ]
    },
    {
      "cell_type": "code",
      "metadata": {
        "id": "M9lNkpN68XtY",
        "colab_type": "code",
        "colab": {}
      },
      "source": [
        "#Create artist user sparse matrix for knn implementation\n",
        "artist_user_data_pivot  = user_data_popular_artists.pivot(index = 'name', columns = 'userID', values = 'userArtistPlays').fillna(0)\n",
        "artist_user_data_sparse = csr_matrix(artist_user_data_pivot.values)"
      ],
      "execution_count": 0,
      "outputs": []
    },
    {
      "cell_type": "code",
      "metadata": {
        "id": "IhnEr-s0-QfN",
        "colab_type": "code",
        "outputId": "13e996c6-41cc-4906-c5e1-6ab772a5fe6e",
        "colab": {
          "base_uri": "https://localhost:8080/",
          "height": 51
        }
      },
      "source": [
        "#Implement Knn model with cosine metrix\n",
        "knn = NearestNeighbors(metric = 'cosine', algorithm = 'brute')\n",
        "knn.fit(artist_user_data_sparse)"
      ],
      "execution_count": 16,
      "outputs": [
        {
          "output_type": "execute_result",
          "data": {
            "text/plain": [
              "NearestNeighbors(algorithm='brute', leaf_size=30, metric='cosine',\n",
              "         metric_params=None, n_jobs=None, n_neighbors=5, p=2, radius=1.0)"
            ]
          },
          "metadata": {
            "tags": []
          },
          "execution_count": 16
        }
      ]
    },
    {
      "cell_type": "code",
      "metadata": {
        "id": "VOHnWmEsBkj7",
        "colab_type": "code",
        "colab": {}
      },
      "source": [
        "def idx_recommend(data,idx,model,k):\n",
        "    distances, indices = (model.kneighbors(data.\n",
        "                                     iloc[idx,:].\n",
        "                                     values.reshape(1,-1),\n",
        "                                     n_neighbors=k+1))\n",
        "  \n",
        "    nameList = []  \n",
        "    \n",
        "    for i in range(0,len(distances.flatten())):\n",
        "        nameList.append(data.index[indices.flatten()[i]])\n",
        "      \n",
        "        if i == 0:\n",
        "            print(('Recommendations for {}:\\n'.\n",
        "                  format(data.index[idx])))\n",
        "        else:\n",
        "            print(('{}: {} ({:.3f})'.\n",
        "                  format(i,\n",
        "                         data.index[indices.flatten()[i]],\n",
        "                         distances.flatten()[i])))\n",
        "    return nameList"
      ],
      "execution_count": 0,
      "outputs": []
    },
    {
      "cell_type": "code",
      "metadata": {
        "id": "ml4PJxaF-Zl4",
        "colab_type": "code",
        "outputId": "1488ec92-3931-4a50-da21-cd19ad4f4af5",
        "colab": {
          "base_uri": "https://localhost:8080/",
          "height": 153
        }
      },
      "source": [
        "#Item based recommendeation results\n",
        "\n",
        "seed = np.random.RandomState(seed=42)\n",
        "query_index = seed.choice(artist_user_data_pivot.shape[0])\n",
        "\n",
        "indis = idx_recommend(artist_user_data_pivot,query_index,knn,6)\n"
      ],
      "execution_count": 18,
      "outputs": [
        {
          "output_type": "stream",
          "text": [
            "Recommendations for Minor Threat:\n",
            "\n",
            "1: Otep (0.534)\n",
            "2: My Bloody Valentine (0.565)\n",
            "3: Nautilus Pompilius (0.616)\n",
            "4: Louis Armstrong (0.618)\n",
            "5: Madball (0.674)\n",
            "6: Jawbreaker (0.681)\n"
          ],
          "name": "stdout"
        }
      ]
    },
    {
      "cell_type": "markdown",
      "metadata": {
        "id": "MQ0u-Q2KY11p",
        "colab_type": "text"
      },
      "source": [
        "**Content Based Recommendation**"
      ]
    },
    {
      "cell_type": "code",
      "metadata": {
        "id": "mtTUNZ0TY5bd",
        "colab_type": "code",
        "outputId": "19e59d63-ed4b-4be3-a111-a4d8f1789cc5",
        "colab": {
          "base_uri": "https://localhost:8080/",
          "height": 136
        }
      },
      "source": [
        "#Find correlated tags for each artist\n",
        "artist_tags_data= pd.merge(utat, tags, on='tagID', how='left')\n",
        "artist_tags_data=artist_tags_data[[\"userID\",\"artistID\",\"tagValue\"]]\n",
        "\n",
        "artist_tags_data = artist_tags_data.drop_duplicates(['artistID', 'tagValue'])\n",
        "\n",
        "artist_tags_data=artist_tags_data.groupby('artistID')['tagValue'].agg(lambda col: ','.join(col))\n",
        "artist_tags_data.head()"
      ],
      "execution_count": 19,
      "outputs": [
        {
          "output_type": "execute_result",
          "data": {
            "text/plain": [
              "artistID\n",
              "1    weeabo,jrock,j-rock,visual kei,better than lad...\n",
              "2    german,seen live,darkwave,industrial,gothic,am...\n",
              "3    black metal,norwegian black metal,true norwegi...\n",
              "4    j-rock,visual kei,metal,gothic japanese,bazaro...\n",
              "5         gothic,gothic rock,darkwave,deathrock,covers\n",
              "Name: tagValue, dtype: object"
            ]
          },
          "metadata": {
            "tags": []
          },
          "execution_count": 19
        }
      ]
    },
    {
      "cell_type": "code",
      "metadata": {
        "id": "WaCkQDI5pHcI",
        "colab_type": "code",
        "colab": {}
      },
      "source": [
        "data = artist_tags_data\n",
        "n_topics = 6\n",
        "seed = 42\n",
        "ngram_range = (1,3)\n",
        "ncols = 2\n",
        "\n",
        "sw = set(STOPWORDS)\n",
        "\n",
        "adds = ['rock','pop','hardcore','vocalist','male','female']\n",
        "for word in adds:\n",
        "    sw.add(word)"
      ],
      "execution_count": 0,
      "outputs": []
    },
    {
      "cell_type": "markdown",
      "metadata": {
        "id": "EKMiHZTckwqa",
        "colab_type": "text"
      },
      "source": [
        "**KMeans Implementation**"
      ]
    },
    {
      "cell_type": "code",
      "metadata": {
        "id": "pVMWiqGAk30_",
        "colab_type": "code",
        "colab": {}
      },
      "source": [
        "n_topics = 7\n",
        "seed = 42\n",
        "ngram_range = (1,3)\n",
        "ncols = 2\n",
        "data = artist_tags_data\n",
        "\n",
        "\n",
        "#TfIdf Implementation for the data\n",
        "tfidf = TfidfVectorizer()\n",
        "X = tfidf.fit_transform(data)\n"
      ],
      "execution_count": 0,
      "outputs": []
    },
    {
      "cell_type": "code",
      "metadata": {
        "id": "lcFSxytdqm3p",
        "colab_type": "code",
        "colab": {}
      },
      "source": [
        "nmf = NMF(n_components=n_topics, random_state=seed, alpha=.1, l1_ratio=.5, init='nndsvd')\n",
        "X_reduced = nmf.fit_transform(X)"
      ],
      "execution_count": 0,
      "outputs": []
    },
    {
      "cell_type": "code",
      "metadata": {
        "id": "KQZrzfZWrtD5",
        "colab_type": "code",
        "colab": {}
      },
      "source": [
        "# plot K Means Clusters Silhouette and Clusters Analysis\n",
        "ns = np.arange(2, 20, 1)\n",
        "inertias = []\n",
        "silhouettes = []\n",
        "for n in ns:\n",
        "    kmeans = KMeans(n_clusters=n, init=\"k-means++\", random_state=seed).fit(X_reduced)\n",
        "    inertias.append(kmeans.inertia_)\n",
        "    labels = kmeans.labels_\n",
        "    ss = silhouette_score(X_reduced, labels, metric='euclidean',sample_size=5000, random_state=seed)\n",
        "    silhouettes.append(ss)"
      ],
      "execution_count": 0,
      "outputs": []
    },
    {
      "cell_type": "code",
      "metadata": {
        "id": "_YeVSRSZsILt",
        "colab_type": "code",
        "outputId": "7ee2002e-0e34-4d52-c082-256d04b1fe1b",
        "colab": {
          "base_uri": "https://localhost:8080/",
          "height": 338
        }
      },
      "source": [
        "# plot the inertia scores\n",
        "fig = plt.figure(figsize=(15,5))\n",
        "ax = fig.add_subplot(1,2,1)\n",
        "\n",
        "plt.plot(ns, inertias)\n",
        "plt.xticks(np.arange(min(ns), max(ns)+1, 2.0))\n",
        "plt.xlabel = 'Clusters'\n",
        "plt.ylabel = 'SSE'\n",
        "plt.title('K-Means Inertia', fontweight='bold',fontsize=16)\n",
        "plt.grid()\n",
        "\n",
        "# plot the silhouette scores\n",
        "ax = fig.add_subplot(1,2,2)\n",
        "\n",
        "plt.plot(ns, silhouettes)\n",
        "plt.xticks(np.arange(min(ns), max(ns)+1, 2.0))\n",
        "plt.xlabel = 'as'\n",
        "plt.ylabel ='Silhouette Coefficient'\n",
        "plt.title('K-Means Silhouette Scores', fontweight='bold',fontsize=16)\n",
        "plt.grid()"
      ],
      "execution_count": 25,
      "outputs": [
        {
          "output_type": "display_data",
          "data": {
            "image/png": "[encoded data removed]",
            "text/plain": [
              "<Figure size 1080x360 with 2 Axes>"
            ]
          },
          "metadata": {
            "tags": []
          }
        }
      ]
    },
    {
      "cell_type": "code",
      "metadata": {
        "id": "75AyT5uTuHck",
        "colab_type": "code",
        "outputId": "70d16dd8-b120-4f1e-bed5-3444c1e677e8",
        "colab": {
          "base_uri": "https://localhost:8080/",
          "height": 170
        }
      },
      "source": [
        "#Implementation of KMeans algorithm\n",
        "kmeans = KMeans(n_clusters=n_topics, init=\"k-means++\", random_state=seed)\n",
        "kmf = kmeans.fit(X_reduced)\n",
        "labels = kmf.labels_\n",
        "ssc = silhouette_score(X_reduced, labels, metric='euclidean',sample_size=5000, random_state=seed)\n",
        "\n",
        "print(\"Inertia score: {}\".format(kmf.inertia_))\n",
        "print(\"Silhouette score: {}\".format(ssc))\n",
        "for cluster in range(len(set(labels))):\n",
        "    print(\"Cluster {} has {} comments.\".format(cluster, sum(labels==cluster)))"
      ],
      "execution_count": 26,
      "outputs": [
        {
          "output_type": "stream",
          "text": [
            "Inertia score: 7.733738684829566\n",
            "Silhouette score: 0.4047317572788124\n",
            "Cluster 0 has 1631 comments.\n",
            "Cluster 1 has 1495 comments.\n",
            "Cluster 2 has 1007 comments.\n",
            "Cluster 3 has 6155 comments.\n",
            "Cluster 4 has 525 comments.\n",
            "Cluster 5 has 955 comments.\n",
            "Cluster 6 has 755 comments.\n"
          ],
          "name": "stdout"
        }
      ]
    },
    {
      "cell_type": "code",
      "metadata": {
        "id": "9IdKHr_wUrMc",
        "colab_type": "code",
        "colab": {}
      },
      "source": [
        "X_data_with_clustered = pd.DataFrame(X_reduced)\n",
        "X_data_with_clustered[\"Clusters\"] = labels"
      ],
      "execution_count": 0,
      "outputs": []
    },
    {
      "cell_type": "code",
      "metadata": {
        "id": "jmS2DgxhVXSg",
        "colab_type": "code",
        "outputId": "1261485e-9431-4580-897d-4d4419d4d11b",
        "colab": {
          "base_uri": "https://localhost:8080/",
          "height": 2000
        }
      },
      "source": [
        "#Combine clusters with artist data\n",
        "df = data.to_frame()\n",
        "df[\"Clusters\"] = labels\n",
        "df"
      ],
      "execution_count": 58,
      "outputs": [
        {
          "output_type": "execute_result",
          "data": {
            "text/html": [
              "<div>\n",
              "<style scoped>\n",
              "    .dataframe tbody tr th:only-of-type {\n",
              "        vertical-align: middle;\n",
              "    }\n",
              "\n",
              "    .dataframe tbody tr th {\n",
              "        vertical-align: top;\n",
              "    }\n",
              "\n",
              "    .dataframe thead th {\n",
              "        text-align: right;\n",
              "    }\n",
              "</style>\n",
              "<table border=\"1\" class=\"dataframe\">\n",
              "  <thead>\n",
              "    <tr style=\"text-align: right;\">\n",
              "      <th></th>\n",
              "      <th>tagValue</th>\n",
              "      <th>Clusters</th>\n",
              "    </tr>\n",
              "    <tr>\n",
              "      <th>artistID</th>\n",
              "      <th></th>\n",
              "      <th></th>\n",
              "    </tr>\n",
              "  </thead>\n",
              "  <tbody>\n",
              "    <tr>\n",
              "      <th>1</th>\n",
              "      <td>weeabo,jrock,j-rock,visual kei,better than lad...</td>\n",
              "      <td>3</td>\n",
              "    </tr>\n",
              "    <tr>\n",
              "      <th>2</th>\n",
              "      <td>german,seen live,darkwave,industrial,gothic,am...</td>\n",
              "      <td>1</td>\n",
              "    </tr>\n",
              "    <tr>\n",
              "      <th>3</th>\n",
              "      <td>black metal,norwegian black metal,true norwegi...</td>\n",
              "      <td>2</td>\n",
              "    </tr>\n",
              "    <tr>\n",
              "      <th>4</th>\n",
              "      <td>j-rock,visual kei,metal,gothic japanese,bazaro...</td>\n",
              "      <td>2</td>\n",
              "    </tr>\n",
              "    <tr>\n",
              "      <th>5</th>\n",
              "      <td>gothic,gothic rock,darkwave,deathrock,covers</td>\n",
              "      <td>3</td>\n",
              "    </tr>\n",
              "    <tr>\n",
              "      <th>6</th>\n",
              "      <td>black metal,gothic metal,doom metal,dark metal...</td>\n",
              "      <td>2</td>\n",
              "    </tr>\n",
              "    <tr>\n",
              "      <th>7</th>\n",
              "      <td>industrial pop,seen live,industrial rock,child...</td>\n",
              "      <td>0</td>\n",
              "    </tr>\n",
              "    <tr>\n",
              "      <th>8</th>\n",
              "      <td>rock,hard rock - metal,j-rock,visual kei,weeab...</td>\n",
              "      <td>0</td>\n",
              "    </tr>\n",
              "    <tr>\n",
              "      <th>9</th>\n",
              "      <td>industrial,futuremelon,terrorbanana,techno,dar...</td>\n",
              "      <td>1</td>\n",
              "    </tr>\n",
              "    <tr>\n",
              "      <th>10</th>\n",
              "      <td>terrorbanana,industrial,dark electro,dutch,ele...</td>\n",
              "      <td>1</td>\n",
              "    </tr>\n",
              "    <tr>\n",
              "      <th>11</th>\n",
              "      <td>terrorbanana,rave,industrial,ebm,dark electro,...</td>\n",
              "      <td>1</td>\n",
              "    </tr>\n",
              "    <tr>\n",
              "      <th>12</th>\n",
              "      <td>death metal,brutal death metal,technical death...</td>\n",
              "      <td>2</td>\n",
              "    </tr>\n",
              "    <tr>\n",
              "      <th>13</th>\n",
              "      <td>electro-industrial,ebm,dark electro,industrial...</td>\n",
              "      <td>1</td>\n",
              "    </tr>\n",
              "    <tr>\n",
              "      <th>14</th>\n",
              "      <td>industrial,ebm,harsh ebm,aggrotech,dark electro</td>\n",
              "      <td>1</td>\n",
              "    </tr>\n",
              "    <tr>\n",
              "      <th>15</th>\n",
              "      <td>symphonic black metal,halloween,black metal,de...</td>\n",
              "      <td>2</td>\n",
              "    </tr>\n",
              "    <tr>\n",
              "      <th>16</th>\n",
              "      <td>industrial,gothic,gothic rock,electronic,goth,...</td>\n",
              "      <td>1</td>\n",
              "    </tr>\n",
              "    <tr>\n",
              "      <th>17</th>\n",
              "      <td>industrial,terrorbanana,dark electro,ebm,harsh...</td>\n",
              "      <td>1</td>\n",
              "    </tr>\n",
              "    <tr>\n",
              "      <th>18</th>\n",
              "      <td>electronic,industrial,gothic,synthpop,ebm,dark...</td>\n",
              "      <td>1</td>\n",
              "    </tr>\n",
              "    <tr>\n",
              "      <th>19</th>\n",
              "      <td>po-kraftwerkski,ogonj,oni pout,ohm sweet ohm,i...</td>\n",
              "      <td>1</td>\n",
              "    </tr>\n",
              "    <tr>\n",
              "      <th>20</th>\n",
              "      <td>black metal,symphonic metal,symphonic black me...</td>\n",
              "      <td>2</td>\n",
              "    </tr>\n",
              "    <tr>\n",
              "      <th>22</th>\n",
              "      <td>industrial,powernoise,noise,electro-industrial...</td>\n",
              "      <td>1</td>\n",
              "    </tr>\n",
              "    <tr>\n",
              "      <th>23</th>\n",
              "      <td>industrial metal,electronic,cyber metal,black ...</td>\n",
              "      <td>2</td>\n",
              "    </tr>\n",
              "    <tr>\n",
              "      <th>24</th>\n",
              "      <td>terrorbanana,rave,ebm,industrial,electro-indus...</td>\n",
              "      <td>1</td>\n",
              "    </tr>\n",
              "    <tr>\n",
              "      <th>25</th>\n",
              "      <td>black metal,death metal,gothic metal,metal,got...</td>\n",
              "      <td>2</td>\n",
              "    </tr>\n",
              "    <tr>\n",
              "      <th>26</th>\n",
              "      <td>dark electro,harsh ebm,french,electronic,melan...</td>\n",
              "      <td>1</td>\n",
              "    </tr>\n",
              "    <tr>\n",
              "      <th>27</th>\n",
              "      <td>avant-garde,industrial,favorites,electro,elect...</td>\n",
              "      <td>1</td>\n",
              "    </tr>\n",
              "    <tr>\n",
              "      <th>28</th>\n",
              "      <td>black metal,seen live,true black metal,norwegi...</td>\n",
              "      <td>2</td>\n",
              "    </tr>\n",
              "    <tr>\n",
              "      <th>29</th>\n",
              "      <td>dark electro,ebm,electronic,industrial,spanish...</td>\n",
              "      <td>1</td>\n",
              "    </tr>\n",
              "    <tr>\n",
              "      <th>30</th>\n",
              "      <td>synthpop,90s,synth,seen live,the beowulfs choi...</td>\n",
              "      <td>1</td>\n",
              "    </tr>\n",
              "    <tr>\n",
              "      <th>31</th>\n",
              "      <td>terrorbanana,seen live,dark electro,industrial...</td>\n",
              "      <td>1</td>\n",
              "    </tr>\n",
              "    <tr>\n",
              "      <th>...</th>\n",
              "      <td>...</td>\n",
              "      <td>...</td>\n",
              "    </tr>\n",
              "    <tr>\n",
              "      <th>18692</th>\n",
              "      <td>classical,melancholy,bi daha dinlicem,instrume...</td>\n",
              "      <td>3</td>\n",
              "    </tr>\n",
              "    <tr>\n",
              "      <th>18693</th>\n",
              "      <td>ezbeni</td>\n",
              "      <td>3</td>\n",
              "    </tr>\n",
              "    <tr>\n",
              "      <th>18695</th>\n",
              "      <td>devrim</td>\n",
              "      <td>3</td>\n",
              "    </tr>\n",
              "    <tr>\n",
              "      <th>18699</th>\n",
              "      <td>folk,singer-songwriter,usa</td>\n",
              "      <td>3</td>\n",
              "    </tr>\n",
              "    <tr>\n",
              "      <th>18704</th>\n",
              "      <td>soundtrack,instrumental</td>\n",
              "      <td>3</td>\n",
              "    </tr>\n",
              "    <tr>\n",
              "      <th>18706</th>\n",
              "      <td>trip-hop,hip-hop,favorite,recos,alsolike,chill...</td>\n",
              "      <td>4</td>\n",
              "    </tr>\n",
              "    <tr>\n",
              "      <th>18707</th>\n",
              "      <td>instrumental hip-hop,underground hip-hop,chill...</td>\n",
              "      <td>4</td>\n",
              "    </tr>\n",
              "    <tr>\n",
              "      <th>18708</th>\n",
              "      <td>chillout,downtempo,instrumental hip-hop</td>\n",
              "      <td>4</td>\n",
              "    </tr>\n",
              "    <tr>\n",
              "      <th>18709</th>\n",
              "      <td>chillout,downtempo,instrumental hip-hop</td>\n",
              "      <td>4</td>\n",
              "    </tr>\n",
              "    <tr>\n",
              "      <th>18710</th>\n",
              "      <td>hip-hop,abstract hip-hop,downtempo,trip-hop,in...</td>\n",
              "      <td>4</td>\n",
              "    </tr>\n",
              "    <tr>\n",
              "      <th>18712</th>\n",
              "      <td>hip-hop,chillout,downtempo,instrumental hip-hop</td>\n",
              "      <td>4</td>\n",
              "    </tr>\n",
              "    <tr>\n",
              "      <th>18713</th>\n",
              "      <td>downtempo,chill,chillout,instrumental hip-hop</td>\n",
              "      <td>4</td>\n",
              "    </tr>\n",
              "    <tr>\n",
              "      <th>18714</th>\n",
              "      <td>downtempo,electronic,instrumental hip-hop</td>\n",
              "      <td>4</td>\n",
              "    </tr>\n",
              "    <tr>\n",
              "      <th>18715</th>\n",
              "      <td>ambient,downtempo,trip-hop,alsolike,abstract h...</td>\n",
              "      <td>4</td>\n",
              "    </tr>\n",
              "    <tr>\n",
              "      <th>18716</th>\n",
              "      <td>rock,chillout,downtempo,instrumental hip-hop</td>\n",
              "      <td>4</td>\n",
              "    </tr>\n",
              "    <tr>\n",
              "      <th>18717</th>\n",
              "      <td>chillout,downtempo,instrumental hip-hop</td>\n",
              "      <td>4</td>\n",
              "    </tr>\n",
              "    <tr>\n",
              "      <th>18719</th>\n",
              "      <td>instrumental hip-hop</td>\n",
              "      <td>4</td>\n",
              "    </tr>\n",
              "    <tr>\n",
              "      <th>18721</th>\n",
              "      <td>downtempo,instrumental hip-hop</td>\n",
              "      <td>4</td>\n",
              "    </tr>\n",
              "    <tr>\n",
              "      <th>18722</th>\n",
              "      <td>electronic,downtempo,electronica,vfsix</td>\n",
              "      <td>1</td>\n",
              "    </tr>\n",
              "    <tr>\n",
              "      <th>18723</th>\n",
              "      <td>drum and bass,liquid funk</td>\n",
              "      <td>3</td>\n",
              "    </tr>\n",
              "    <tr>\n",
              "      <th>18724</th>\n",
              "      <td>acid jazz,friends,a capella,chillout,downtempo...</td>\n",
              "      <td>3</td>\n",
              "    </tr>\n",
              "    <tr>\n",
              "      <th>18732</th>\n",
              "      <td>new wave,pop</td>\n",
              "      <td>3</td>\n",
              "    </tr>\n",
              "    <tr>\n",
              "      <th>18734</th>\n",
              "      <td>alternative,electronica</td>\n",
              "      <td>1</td>\n",
              "    </tr>\n",
              "    <tr>\n",
              "      <th>18735</th>\n",
              "      <td>alternative</td>\n",
              "      <td>0</td>\n",
              "    </tr>\n",
              "    <tr>\n",
              "      <th>18736</th>\n",
              "      <td>ambient,downtempo,electronic,atmospheric,avant...</td>\n",
              "      <td>1</td>\n",
              "    </tr>\n",
              "    <tr>\n",
              "      <th>18737</th>\n",
              "      <td>alternative,electronica,trip beat,80s,noise</td>\n",
              "      <td>3</td>\n",
              "    </tr>\n",
              "    <tr>\n",
              "      <th>18739</th>\n",
              "      <td>favorite,electronic,trip-hop,rock,alternative ...</td>\n",
              "      <td>0</td>\n",
              "    </tr>\n",
              "    <tr>\n",
              "      <th>18740</th>\n",
              "      <td>industrial,ebm</td>\n",
              "      <td>1</td>\n",
              "    </tr>\n",
              "    <tr>\n",
              "      <th>18741</th>\n",
              "      <td>experimental,dead music</td>\n",
              "      <td>3</td>\n",
              "    </tr>\n",
              "    <tr>\n",
              "      <th>18744</th>\n",
              "      <td>chillout,ambient,downtempo,avant-garde,trip ho...</td>\n",
              "      <td>1</td>\n",
              "    </tr>\n",
              "  </tbody>\n",
              "</table>\n",
              "<p>12523 rows × 2 columns</p>\n",
              "</div>"
            ],
            "text/plain": [
              "                                                   tagValue  Clusters\n",
              "artistID                                                             \n",
              "1         weeabo,jrock,j-rock,visual kei,better than lad...         3\n",
              "2         german,seen live,darkwave,industrial,gothic,am...         1\n",
              "3         black metal,norwegian black metal,true norwegi...         2\n",
              "4         j-rock,visual kei,metal,gothic japanese,bazaro...         2\n",
              "5              gothic,gothic rock,darkwave,deathrock,covers         3\n",
              "6         black metal,gothic metal,doom metal,dark metal...         2\n",
              "7         industrial pop,seen live,industrial rock,child...         0\n",
              "8         rock,hard rock - metal,j-rock,visual kei,weeab...         0\n",
              "9         industrial,futuremelon,terrorbanana,techno,dar...         1\n",
              "10        terrorbanana,industrial,dark electro,dutch,ele...         1\n",
              "11        terrorbanana,rave,industrial,ebm,dark electro,...         1\n",
              "12        death metal,brutal death metal,technical death...         2\n",
              "13        electro-industrial,ebm,dark electro,industrial...         1\n",
              "14          industrial,ebm,harsh ebm,aggrotech,dark electro         1\n",
              "15        symphonic black metal,halloween,black metal,de...         2\n",
              "16        industrial,gothic,gothic rock,electronic,goth,...         1\n",
              "17        industrial,terrorbanana,dark electro,ebm,harsh...         1\n",
              "18        electronic,industrial,gothic,synthpop,ebm,dark...         1\n",
              "19        po-kraftwerkski,ogonj,oni pout,ohm sweet ohm,i...         1\n",
              "20        black metal,symphonic metal,symphonic black me...         2\n",
              "22        industrial,powernoise,noise,electro-industrial...         1\n",
              "23        industrial metal,electronic,cyber metal,black ...         2\n",
              "24        terrorbanana,rave,ebm,industrial,electro-indus...         1\n",
              "25        black metal,death metal,gothic metal,metal,got...         2\n",
              "26        dark electro,harsh ebm,french,electronic,melan...         1\n",
              "27        avant-garde,industrial,favorites,electro,elect...         1\n",
              "28        black metal,seen live,true black metal,norwegi...         2\n",
              "29        dark electro,ebm,electronic,industrial,spanish...         1\n",
              "30        synthpop,90s,synth,seen live,the beowulfs choi...         1\n",
              "31        terrorbanana,seen live,dark electro,industrial...         1\n",
              "...                                                     ...       ...\n",
              "18692     classical,melancholy,bi daha dinlicem,instrume...         3\n",
              "18693                                                ezbeni         3\n",
              "18695                                                devrim         3\n",
              "18699                            folk,singer-songwriter,usa         3\n",
              "18704                               soundtrack,instrumental         3\n",
              "18706     trip-hop,hip-hop,favorite,recos,alsolike,chill...         4\n",
              "18707     instrumental hip-hop,underground hip-hop,chill...         4\n",
              "18708               chillout,downtempo,instrumental hip-hop         4\n",
              "18709               chillout,downtempo,instrumental hip-hop         4\n",
              "18710     hip-hop,abstract hip-hop,downtempo,trip-hop,in...         4\n",
              "18712       hip-hop,chillout,downtempo,instrumental hip-hop         4\n",
              "18713         downtempo,chill,chillout,instrumental hip-hop         4\n",
              "18714             downtempo,electronic,instrumental hip-hop         4\n",
              "18715     ambient,downtempo,trip-hop,alsolike,abstract h...         4\n",
              "18716          rock,chillout,downtempo,instrumental hip-hop         4\n",
              "18717               chillout,downtempo,instrumental hip-hop         4\n",
              "18719                                  instrumental hip-hop         4\n",
              "18721                        downtempo,instrumental hip-hop         4\n",
              "18722                electronic,downtempo,electronica,vfsix         1\n",
              "18723                             drum and bass,liquid funk         3\n",
              "18724     acid jazz,friends,a capella,chillout,downtempo...         3\n",
              "18732                                          new wave,pop         3\n",
              "18734                               alternative,electronica         1\n",
              "18735                                           alternative         0\n",
              "18736     ambient,downtempo,electronic,atmospheric,avant...         1\n",
              "18737           alternative,electronica,trip beat,80s,noise         3\n",
              "18739     favorite,electronic,trip-hop,rock,alternative ...         0\n",
              "18740                                        industrial,ebm         1\n",
              "18741                               experimental,dead music         3\n",
              "18744     chillout,ambient,downtempo,avant-garde,trip ho...         1\n",
              "\n",
              "[12523 rows x 2 columns]"
            ]
          },
          "metadata": {
            "tags": []
          },
          "execution_count": 58
        }
      ]
    },
    {
      "cell_type": "code",
      "metadata": {
        "id": "nb2bg0xMhr0I",
        "colab_type": "code",
        "outputId": "56252b95-fb3c-48ef-f75d-ed1f88f91664",
        "colab": {
          "base_uri": "https://localhost:8080/",
          "height": 416
        }
      },
      "source": [
        "#Tsne for visualizing clusters\n",
        "tsne = TSNE(n_components=2, init='random',perplexity=30, n_iter=1000, random_state=seed)\n",
        "trans_data = tsne.fit_transform(X_reduced)\n",
        "df_tsne = pd.DataFrame(trans_data, columns=[\"tsne_x\", \"tsne_y\"])\n",
        "df_tsne[\"Cluster\"] = labels \n",
        "df_tsne[\"Cluster\"] = df_tsne[\"Cluster\"].apply(str)\n",
        "\n",
        "\n",
        "fig = plt.figure(figsize=(10,10))\n",
        "tsne_sns = sns.lmplot(\"tsne_x\", \"tsne_y\", data=df_tsne, fit_reg=False, hue=\"Cluster\")\n",
        "\n",
        "plt.title(\"T-SNE Clusters\",fontweight='bold')"
      ],
      "execution_count": 29,
      "outputs": [
        {
          "output_type": "execute_result",
          "data": {
            "text/plain": [
              "Text(0.5, 1.0, 'T-SNE Clusters')"
            ]
          },
          "metadata": {
            "tags": []
          },
          "execution_count": 29
        },
        {
          "output_type": "display_data",
          "data": {
            "text/plain": [
              "<Figure size 720x720 with 0 Axes>"
            ]
          },
          "metadata": {
            "tags": []
          }
        },
        {
          "output_type": "display_data",
          "data": {
            "image/png": "[encoded data removed]",
            "text/plain": [
              "<Figure size 403.5x360 with 1 Axes>"
            ]
          },
          "metadata": {
            "tags": []
          }
        }
      ]
    },
    {
      "cell_type": "markdown",
      "metadata": {
        "id": "Zukm-7VEd5vh",
        "colab_type": "text"
      },
      "source": [
        "**Hybrid Recommendation**"
      ]
    },
    {
      "cell_type": "code",
      "metadata": {
        "id": "cptQF5H1ldmf",
        "colab_type": "code",
        "colab": {
          "base_uri": "https://localhost:8080/",
          "height": 80
        },
        "outputId": "45399f99-6fcb-435c-dda5-51d41e52bd36"
      },
      "source": [
        "#Set artist name for recommendation\n",
        "artistName = \"The Beatles\"\n",
        "\n",
        "artistFiltered = artists[artists['name'] == artistName]\n",
        "artistFiltered"
      ],
      "execution_count": 104,
      "outputs": [
        {
          "output_type": "execute_result",
          "data": {
            "text/html": [
              "<div>\n",
              "<style scoped>\n",
              "    .dataframe tbody tr th:only-of-type {\n",
              "        vertical-align: middle;\n",
              "    }\n",
              "\n",
              "    .dataframe tbody tr th {\n",
              "        vertical-align: top;\n",
              "    }\n",
              "\n",
              "    .dataframe thead th {\n",
              "        text-align: right;\n",
              "    }\n",
              "</style>\n",
              "<table border=\"1\" class=\"dataframe\">\n",
              "  <thead>\n",
              "    <tr style=\"text-align: right;\">\n",
              "      <th></th>\n",
              "      <th>id</th>\n",
              "      <th>name</th>\n",
              "    </tr>\n",
              "  </thead>\n",
              "  <tbody>\n",
              "    <tr>\n",
              "      <th>294</th>\n",
              "      <td>300</td>\n",
              "      <td>Katy Perry</td>\n",
              "    </tr>\n",
              "  </tbody>\n",
              "</table>\n",
              "</div>"
            ],
            "text/plain": [
              "      id        name\n",
              "294  300  Katy Perry"
            ]
          },
          "metadata": {
            "tags": []
          },
          "execution_count": 104
        }
      ]
    },
    {
      "cell_type": "code",
      "metadata": {
        "id": "T-4uCC1nngZC",
        "colab_type": "code",
        "colab": {}
      },
      "source": [
        "#Find artists within same cluster with param\n",
        "\n",
        "df['artistID'] = df.index \n",
        "dfFiltered = df[df['artistID'].isin(artistFiltered[\"id\"])]\n",
        "df_With_Clusters = df[df[\"Clusters\"].isin(dfFiltered[\"Clusters\"])]"
      ],
      "execution_count": 0,
      "outputs": []
    },
    {
      "cell_type": "code",
      "metadata": {
        "id": "lrL_bH3auZ_T",
        "colab_type": "code",
        "colab": {}
      },
      "source": [
        "user_data_popular_artists_filtered = user_data_popular_artists[user_data_popular_artists[\"artistID\"].isin(df_With_Clusters.artistID)]"
      ],
      "execution_count": 0,
      "outputs": []
    },
    {
      "cell_type": "code",
      "metadata": {
        "id": "rtyx5obbu93v",
        "colab_type": "code",
        "colab": {}
      },
      "source": [
        "user_data_popular_artists_filtered_pivot  = user_data_popular_artists_filtered.pivot(index = 'name', columns = 'userID', values = 'userArtistPlays').fillna(0)"
      ],
      "execution_count": 0,
      "outputs": []
    },
    {
      "cell_type": "code",
      "metadata": {
        "id": "3JcSRMCEvOv2",
        "colab_type": "code",
        "colab": {
          "base_uri": "https://localhost:8080/",
          "height": 153
        },
        "outputId": "18fa4f45-44c6-4d44-cb87-89e0719f36f5"
      },
      "source": [
        "#Make determinant Hybric recommendation\n",
        "\n",
        "knn = NearestNeighbors(metric = 'cosine', algorithm = 'brute')\n",
        "knn.fit(user_data_popular_artists_filtered_pivot)\n",
        "\n",
        "names = idx_recommend(user_data_popular_artists_filtered_pivot,artistFiltered.iloc[0, 0],knn,6)\n"
      ],
      "execution_count": 109,
      "outputs": [
        {
          "output_type": "stream",
          "text": [
            "Recommendations for James:\n",
            "\n",
            "1: The Dandy Warhols (0.257)\n",
            "2: Chris Cornell (0.481)\n",
            "3: Edwyn Collins (0.679)\n",
            "4: The Clientele (0.691)\n",
            "5: Mark Lanegan (0.729)\n",
            "6: The Cult (0.798)\n"
          ],
          "name": "stdout"
        }
      ]
    },
    {
      "cell_type": "code",
      "metadata": {
        "id": "gNPDsxAuxWF8",
        "colab_type": "code",
        "colab": {
          "base_uri": "https://localhost:8080/",
          "height": 34
        },
        "outputId": "805fee0b-cbce-4db5-f85d-d14d4abe8c69"
      },
      "source": [
        "artistFiltered.iloc[0, 0]"
      ],
      "execution_count": 95,
      "outputs": [
        {
          "output_type": "execute_result",
          "data": {
            "text/plain": [
              "154"
            ]
          },
          "metadata": {
            "tags": []
          },
          "execution_count": 95
        }
      ]
    }
  ]
}